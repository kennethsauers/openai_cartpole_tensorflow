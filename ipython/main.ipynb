{
 "cells": [
  {
   "cell_type": "code",
   "execution_count": 1,
   "metadata": {
    "collapsed": true,
    "deletable": true,
    "editable": true
   },
   "outputs": [],
   "source": [
    "import gym\n",
    "import numpy as np\n",
    "import tflearn\n",
    "from tflearn.layers.core import input_data, dropout, fully_connected\n",
    "from tflearn.layers.estimator import regression\n",
    "import random"
   ]
  },
  {
   "cell_type": "code",
   "execution_count": 2,
   "metadata": {
    "collapsed": false,
    "deletable": true,
    "editable": true
   },
   "outputs": [],
   "source": [
    "import model\n",
    "import model_trainer\n",
    "import data_generator\n",
    "import agent"
   ]
  },
  {
   "cell_type": "code",
   "execution_count": 3,
   "metadata": {
    "collapsed": false,
    "deletable": true,
    "editable": true
   },
   "outputs": [
    {
     "name": "stdout",
     "output_type": "stream",
     "text": [
      "Training Step: 367  | total loss: \u001b[1m\u001b[32m0.67610\u001b[0m\u001b[0m | time: 5.461s\n",
      "| Adam | epoch: 001 | loss: 0.67610 - acc: 0.5997 -- iter: 23488/23520\n",
      "Training Step: 368  | total loss: \u001b[1m\u001b[32m0.68067\u001b[0m\u001b[0m | time: 5.473s\n",
      "| Adam | epoch: 001 | loss: 0.68067 - acc: 0.5913 -- iter: 23520/23520\n",
      "--\n",
      "INFO:tensorflow:/home/hedonist/Documents/openai_cartpole_tensorflow/ipython/model_save/test is not in all_model_checkpoint_paths. Manually adding it.\n"
     ]
    },
    {
     "name": "stderr",
     "output_type": "stream",
     "text": [
      "[2017-06-28 18:06:30,616] /home/hedonist/Documents/openai_cartpole_tensorflow/ipython/model_save/test is not in all_model_checkpoint_paths. Manually adding it.\n",
      "[2017-06-28 18:06:30,732] Making new env: CartPole-v0\n"
     ]
    },
    {
     "name": "stdout",
     "output_type": "stream",
     "text": [
      "Average Score: 200.0\n",
      "choice 1:0.49395  choice 0:0.50605\n"
     ]
    }
   ],
   "source": [
    "if __name__ == '__main__':\n",
    "    data = data_generator.enviroment()\n",
    "    data.initial_games = 10000\n",
    "    data.score_requirement = 50\n",
    "    x = data.generate_data()\n",
    "    training_data = np.load('saved.npy')\n",
    "    model = model.neural_network_model(4)\n",
    "    model = model_trainer.train_model(training_data, model=model)\n",
    "    player = agent.agents()\n",
    "    player.model = model\n",
    "    player.play()"
   ]
  }
 ],
 "metadata": {
  "anaconda-cloud": {},
  "kernelspec": {
   "display_name": "Python [conda root]",
   "language": "python",
   "name": "conda-root-py"
  },
  "language_info": {
   "codemirror_mode": {
    "name": "ipython",
    "version": 3
   },
   "file_extension": ".py",
   "mimetype": "text/x-python",
   "name": "python",
   "nbconvert_exporter": "python",
   "pygments_lexer": "ipython3",
   "version": "3.5.2"
  }
 },
 "nbformat": 4,
 "nbformat_minor": 2
}
