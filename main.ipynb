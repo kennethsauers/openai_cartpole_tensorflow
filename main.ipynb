{
 "cells": [
  {
   "cell_type": "code",
   "execution_count": 1,
   "metadata": {
    "collapsed": true
   },
   "outputs": [],
   "source": [
    "import gym\n",
    "import numpy as np\n",
    "import tflearn\n",
    "from tflearn.layers.core import input_data, dropout, fully_connected\n",
    "from tflearn.layers.estimator import regression\n",
    "import random"
   ]
  },
  {
   "cell_type": "code",
   "execution_count": 2,
   "metadata": {
    "collapsed": false
   },
   "outputs": [],
   "source": [
    "import model\n",
    "import model_trainer\n",
    "import data_generator\n",
    "import agent"
   ]
  },
  {
   "cell_type": "code",
   "execution_count": 3,
   "metadata": {
    "collapsed": false
   },
   "outputs": [
    {
     "name": "stdout",
     "output_type": "stream",
     "text": [
      "Training Step: 349  | total loss: \u001b[1m\u001b[32m0.67463\u001b[0m\u001b[0m | time: 5.309s\n",
      "| Adam | epoch: 001 | loss: 0.67463 - acc: 0.6170 -- iter: 22336/22346\n",
      "Training Step: 350  | total loss: \u001b[1m\u001b[32m0.67471\u001b[0m\u001b[0m | time: 5.316s\n",
      "| Adam | epoch: 001 | loss: 0.67471 - acc: 0.6162 -- iter: 22346/22346\n",
      "--\n",
      "INFO:tensorflow:/home/hedonist/Documents/openai_cartpole_tensorflow/model_save/test is not in all_model_checkpoint_paths. Manually adding it.\n"
     ]
    },
    {
     "name": "stderr",
     "output_type": "stream",
     "text": [
      "[2017-06-28 16:14:11,548] /home/hedonist/Documents/openai_cartpole_tensorflow/model_save/test is not in all_model_checkpoint_paths. Manually adding it.\n",
      "[2017-06-28 16:14:11,700] Making new env: CartPole-v0\n"
     ]
    },
    {
     "name": "stdout",
     "output_type": "stream",
     "text": [
      "Average Score: 195.06\n",
      "choice 1:0.4951297036809187  choice 0:0.5048702963190813\n"
     ]
    }
   ],
   "source": [
    "if __name__ == '__main__':\n",
    "    data = data_generator.enviroment()\n",
    "    data.initial_games = 10000\n",
    "    data.score_requirement = 50\n",
    "    x = data.generate_data()\n",
    "    training_data = np.load('saved.npy')\n",
    "    model = model.neural_network_model(4)\n",
    "    model = model_trainer.train_model(training_data, model=model)\n",
    "    player = agent.agents()\n",
    "    player.model = model\n",
    "    player.play()"
   ]
  }
 ],
 "metadata": {
  "kernelspec": {
   "display_name": "Python [conda root]",
   "language": "python",
   "name": "conda-root-py"
  },
  "language_info": {
   "codemirror_mode": {
    "name": "ipython",
    "version": 3
   },
   "file_extension": ".py",
   "mimetype": "text/x-python",
   "name": "python",
   "nbconvert_exporter": "python",
   "pygments_lexer": "ipython3",
   "version": "3.5.2"
  }
 },
 "nbformat": 4,
 "nbformat_minor": 2
}
